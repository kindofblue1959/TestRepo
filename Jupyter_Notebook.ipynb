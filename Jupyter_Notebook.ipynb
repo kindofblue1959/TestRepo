{
 "cells": [
  {
   "cell_type": "markdown",
   "id": "9c0659e1-4a06-4758-bd97-bcc0d27dae46",
   "metadata": {},
   "source": [
    "# Data Science Tools and Ecosystem"
   ]
  },
  {
   "cell_type": "markdown",
   "id": "a2227e40-b770-4832-9fd4-a49da6b48c94",
   "metadata": {},
   "source": [
    "## In this notebook, Data Science Tools and Ecosystem are summarized."
   ]
  },
  {
   "cell_type": "markdown",
   "id": "f5e8a152-af56-4efc-bbf4-05d36b0d2169",
   "metadata": {},
   "source": [
    "## Some of the popular languages that Data Scientists use are:"
   ]
  },
  {
   "cell_type": "code",
   "execution_count": null,
   "id": "4b990567-4ab4-4359-bbd5-8e25bb717109",
   "metadata": {},
   "outputs": [],
   "source": [
    "###\n",
    "1. R\n",
    "2. Python\n",
    "3. Java"
   ]
  },
  {
   "cell_type": "markdown",
   "id": "0256e1b5-7de1-4801-a468-87e323b27307",
   "metadata": {},
   "source": [
    "## Some of the commonly used libraries used by Data Scientists include:\n",
    "1. Numpy\n",
    "2. Pandas\n",
    "3. SciPy"
   ]
  },
  {
   "cell_type": "markdown",
   "id": "c44b4e57-45d9-4b2a-a9d0-f2654a5639f7",
   "metadata": {},
   "source": [
    "    | Data Science Tools |\n",
    "    |--------------------|\n",
    "    |Jupyter Notebook|\n",
    "    |RStudio|\n",
    "    |Visual Studio Code|\n",
    "    "
   ]
  },
  {
   "cell_type": "markdown",
   "id": "8e606ecb-dd10-45b4-92c7-8c627e69db6b",
   "metadata": {},
   "source": [
    "### Below are a few examples of evaluating arithmetic expressions in Python\n",
    "\n",
    "$$\n",
    "x + y = z \\\\\n",
    "15 + 10 = 25 \\\\\n",
    "a + b = c\n",
    "$$"
   ]
  },
  {
   "cell_type": "code",
   "execution_count": 7,
   "id": "8331df97-4cfb-4e3d-bc27-05becb51b4ca",
   "metadata": {},
   "outputs": [
    {
     "name": "stdout",
     "output_type": "stream",
     "text": [
      "The result of (3 * 4) + 5 is: 17\n"
     ]
    }
   ],
   "source": [
    "# This cell performs a simple arithmetic operation: multiplication followed by addition.\n",
    "result = (3 * 4) + 5\n",
    "print(f\"The result of (3 * 4) + 5 is: {result}\")"
   ]
  },
  {
   "cell_type": "code",
   "execution_count": 8,
   "id": "798993e6-0937-4b58-9f23-bbb647731595",
   "metadata": {},
   "outputs": [
    {
     "name": "stdout",
     "output_type": "stream",
     "text": [
      "The Results of 200/60 is: 3.3333333333333335\n"
     ]
    }
   ],
   "source": [
    "# This cell converts 22 minutes to hours.\n",
    "result = (200/60)\n",
    "print(f\"The Results of 200/60 is: {result}\")"
   ]
  },
  {
   "cell_type": "markdown",
   "id": "08f91e52-08e2-4a59-b5e5-d52e40fc0943",
   "metadata": {},
   "source": [
    "### Insert a markdown file to list objectives\n",
    "**Objectives:**\n",
    "- Data Science Tools and Ecosystem\n",
    "- Commonly used libraries by Data Scientist\n",
    "- Popular Languages by Data Scientists\n"
   ]
  },
  {
   "cell_type": "code",
   "execution_count": null,
   "id": "4d009365-9221-4455-b592-f3b068e2c1c2",
   "metadata": {},
   "outputs": [],
   "source": [
    "## Author\n",
    "Bruce Powers"
   ]
  }
 ],
 "metadata": {
  "kernelspec": {
   "display_name": "Python 3 (ipykernel)",
   "language": "python",
   "name": "python3"
  },
  "language_info": {
   "codemirror_mode": {
    "name": "ipython",
    "version": 3
   },
   "file_extension": ".py",
   "mimetype": "text/x-python",
   "name": "python",
   "nbconvert_exporter": "python",
   "pygments_lexer": "ipython3",
   "version": "3.13.2"
  }
 },
 "nbformat": 4,
 "nbformat_minor": 5
}
